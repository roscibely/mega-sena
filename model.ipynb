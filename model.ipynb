{
  "nbformat": 4,
  "nbformat_minor": 0,
  "metadata": {
    "colab": {
      "provenance": []
    },
    "kernelspec": {
      "name": "python3",
      "display_name": "Python 3"
    },
    "language_info": {
      "name": "python"
    }
  },
  "cells": [
    {
      "cell_type": "markdown",
      "source": [
        "# Mega Sena da Virada \n",
        "\n",
        "Será que os algoritmos conseguem acertar? \n",
        "\n",
        "Faremos o uso dos dados dos anos passados. De 1996 a 2018. 22 anos de jogos. \n"
      ],
      "metadata": {
        "id": "eKOsEtSLqf79"
      }
    },
    {
      "cell_type": "markdown",
      "source": [
        "## 1. Importando as bibliotecas necessárias "
      ],
      "metadata": {
        "id": "hTDZaUKjrUke"
      }
    },
    {
      "cell_type": "code",
      "execution_count": 1,
      "metadata": {
        "id": "1X63Qg44UPCs"
      },
      "outputs": [],
      "source": [
        "import pandas as pd\n",
        "import numpy as np\n",
        "import matplotlib.pyplot   as plt\n",
        "import seaborn as sns"
      ]
    },
    {
      "cell_type": "markdown",
      "source": [
        "## 2. Lendo o _Dataset_"
      ],
      "metadata": {
        "id": "N758heAsrYvN"
      }
    },
    {
      "cell_type": "code",
      "source": [
        "df = pd.read_csv('sorteios.csv') \n",
        "df.head()\n",
        "df.info()\n",
        "df.describe()"
      ],
      "metadata": {
        "colab": {
          "base_uri": "https://localhost:8080/",
          "height": 902
        },
        "id": "YRsCkzlLVqq0",
        "outputId": "f8804c2c-19b3-479b-c9b8-0e4e188ac11e"
      },
      "execution_count": 2,
      "outputs": [
        {
          "output_type": "stream",
          "name": "stdout",
          "text": [
            "<class 'pandas.core.frame.DataFrame'>\n",
            "RangeIndex: 2278 entries, 0 to 2277\n",
            "Data columns (total 23 columns):\n",
            " #   Column                    Non-Null Count  Dtype  \n",
            "---  ------                    --------------  -----  \n",
            " 0   Id                        2278 non-null   int64  \n",
            " 1   Concurso                  2278 non-null   int64  \n",
            " 2   Data Sorteio              2278 non-null   object \n",
            " 3   1ª Dezena                 2278 non-null   int64  \n",
            " 4   2ª Dezena                 2278 non-null   int64  \n",
            " 5   3ª Dezena                 2278 non-null   int64  \n",
            " 6   4ª Dezena                 2278 non-null   int64  \n",
            " 7   5ª Dezena                 2278 non-null   int64  \n",
            " 8   6ª Dezena                 2278 non-null   int64  \n",
            " 9   Arrecadacao_Total         2278 non-null   object \n",
            " 10  Ganhadores_Sena           2278 non-null   int64  \n",
            " 11  Cidade                    392 non-null    object \n",
            " 12  UF                        678 non-null    object \n",
            " 13  Rateio_Sena               2278 non-null   object \n",
            " 14  Ganhadores_Quina          2278 non-null   int64  \n",
            " 15  Rateio_Quina              2278 non-null   object \n",
            " 16  Ganhadores_Quadra         2278 non-null   int64  \n",
            " 17  Rateio_Quadra             2278 non-null   object \n",
            " 18  Acumulado                 2278 non-null   object \n",
            " 19  Valor_Acumulado           2278 non-null   object \n",
            " 20  Estimativa_Prêmio         2278 non-null   object \n",
            " 21  Acumulado_Mega_da_Virada  2278 non-null   object \n",
            " 22  Unnamed: 22               0 non-null      float64\n",
            "dtypes: float64(1), int64(11), object(11)\n",
            "memory usage: 409.5+ KB\n"
          ]
        },
        {
          "output_type": "execute_result",
          "data": {
            "text/plain": [
              "                Id     Concurso    1ª Dezena    2ª Dezena    3ª Dezena  \\\n",
              "count  2278.000000  2278.000000  2278.000000  2278.000000  2278.000000   \n",
              "mean   1139.500000  1046.037752    30.441176    29.809482    30.546971   \n",
              "std     657.746278   595.929308    17.439520    17.360566    17.518250   \n",
              "min       1.000000     1.000000     1.000000     1.000000     1.000000   \n",
              "25%     570.250000   529.000000    15.000000    15.000000    15.000000   \n",
              "50%    1139.500000  1056.500000    31.000000    30.000000    30.000000   \n",
              "75%    1708.750000  1560.000000    46.000000    45.000000    46.000000   \n",
              "max    2278.000000  2062.000000    60.000000    60.000000    60.000000   \n",
              "\n",
              "         4ª Dezena    5ª Dezena    6ª Dezena  Ganhadores_Sena  \\\n",
              "count  2278.000000  2278.000000  2278.000000      2278.000000   \n",
              "mean     30.689640    30.054434    29.757682         0.774802   \n",
              "std      17.225998    17.236672    17.404741         2.127623   \n",
              "min       1.000000     1.000000     1.000000         0.000000   \n",
              "25%      16.000000    15.000000    15.000000         0.000000   \n",
              "50%      31.000000    30.500000    30.000000         0.000000   \n",
              "75%      45.000000    45.000000    45.000000         1.000000   \n",
              "max      60.000000    60.000000    60.000000        17.000000   \n",
              "\n",
              "       Ganhadores_Quina  Ganhadores_Quadra  Unnamed: 22  \n",
              "count       2278.000000        2278.000000          0.0  \n",
              "mean         172.262511        9964.825724          NaN  \n",
              "std          461.009424       19591.148738          NaN  \n",
              "min            6.000000         683.000000          NaN  \n",
              "25%           52.000000        3994.250000          NaN  \n",
              "50%           83.000000        5764.500000          NaN  \n",
              "75%          136.750000        8816.250000          NaN  \n",
              "max         4862.000000      173428.000000          NaN  "
            ],
            "text/html": [
              "\n",
              "  <div id=\"df-9fd15d9e-1a48-4c21-a15b-c6758ba645a4\">\n",
              "    <div class=\"colab-df-container\">\n",
              "      <div>\n",
              "<style scoped>\n",
              "    .dataframe tbody tr th:only-of-type {\n",
              "        vertical-align: middle;\n",
              "    }\n",
              "\n",
              "    .dataframe tbody tr th {\n",
              "        vertical-align: top;\n",
              "    }\n",
              "\n",
              "    .dataframe thead th {\n",
              "        text-align: right;\n",
              "    }\n",
              "</style>\n",
              "<table border=\"1\" class=\"dataframe\">\n",
              "  <thead>\n",
              "    <tr style=\"text-align: right;\">\n",
              "      <th></th>\n",
              "      <th>Id</th>\n",
              "      <th>Concurso</th>\n",
              "      <th>1ª Dezena</th>\n",
              "      <th>2ª Dezena</th>\n",
              "      <th>3ª Dezena</th>\n",
              "      <th>4ª Dezena</th>\n",
              "      <th>5ª Dezena</th>\n",
              "      <th>6ª Dezena</th>\n",
              "      <th>Ganhadores_Sena</th>\n",
              "      <th>Ganhadores_Quina</th>\n",
              "      <th>Ganhadores_Quadra</th>\n",
              "      <th>Unnamed: 22</th>\n",
              "    </tr>\n",
              "  </thead>\n",
              "  <tbody>\n",
              "    <tr>\n",
              "      <th>count</th>\n",
              "      <td>2278.000000</td>\n",
              "      <td>2278.000000</td>\n",
              "      <td>2278.000000</td>\n",
              "      <td>2278.000000</td>\n",
              "      <td>2278.000000</td>\n",
              "      <td>2278.000000</td>\n",
              "      <td>2278.000000</td>\n",
              "      <td>2278.000000</td>\n",
              "      <td>2278.000000</td>\n",
              "      <td>2278.000000</td>\n",
              "      <td>2278.000000</td>\n",
              "      <td>0.0</td>\n",
              "    </tr>\n",
              "    <tr>\n",
              "      <th>mean</th>\n",
              "      <td>1139.500000</td>\n",
              "      <td>1046.037752</td>\n",
              "      <td>30.441176</td>\n",
              "      <td>29.809482</td>\n",
              "      <td>30.546971</td>\n",
              "      <td>30.689640</td>\n",
              "      <td>30.054434</td>\n",
              "      <td>29.757682</td>\n",
              "      <td>0.774802</td>\n",
              "      <td>172.262511</td>\n",
              "      <td>9964.825724</td>\n",
              "      <td>NaN</td>\n",
              "    </tr>\n",
              "    <tr>\n",
              "      <th>std</th>\n",
              "      <td>657.746278</td>\n",
              "      <td>595.929308</td>\n",
              "      <td>17.439520</td>\n",
              "      <td>17.360566</td>\n",
              "      <td>17.518250</td>\n",
              "      <td>17.225998</td>\n",
              "      <td>17.236672</td>\n",
              "      <td>17.404741</td>\n",
              "      <td>2.127623</td>\n",
              "      <td>461.009424</td>\n",
              "      <td>19591.148738</td>\n",
              "      <td>NaN</td>\n",
              "    </tr>\n",
              "    <tr>\n",
              "      <th>min</th>\n",
              "      <td>1.000000</td>\n",
              "      <td>1.000000</td>\n",
              "      <td>1.000000</td>\n",
              "      <td>1.000000</td>\n",
              "      <td>1.000000</td>\n",
              "      <td>1.000000</td>\n",
              "      <td>1.000000</td>\n",
              "      <td>1.000000</td>\n",
              "      <td>0.000000</td>\n",
              "      <td>6.000000</td>\n",
              "      <td>683.000000</td>\n",
              "      <td>NaN</td>\n",
              "    </tr>\n",
              "    <tr>\n",
              "      <th>25%</th>\n",
              "      <td>570.250000</td>\n",
              "      <td>529.000000</td>\n",
              "      <td>15.000000</td>\n",
              "      <td>15.000000</td>\n",
              "      <td>15.000000</td>\n",
              "      <td>16.000000</td>\n",
              "      <td>15.000000</td>\n",
              "      <td>15.000000</td>\n",
              "      <td>0.000000</td>\n",
              "      <td>52.000000</td>\n",
              "      <td>3994.250000</td>\n",
              "      <td>NaN</td>\n",
              "    </tr>\n",
              "    <tr>\n",
              "      <th>50%</th>\n",
              "      <td>1139.500000</td>\n",
              "      <td>1056.500000</td>\n",
              "      <td>31.000000</td>\n",
              "      <td>30.000000</td>\n",
              "      <td>30.000000</td>\n",
              "      <td>31.000000</td>\n",
              "      <td>30.500000</td>\n",
              "      <td>30.000000</td>\n",
              "      <td>0.000000</td>\n",
              "      <td>83.000000</td>\n",
              "      <td>5764.500000</td>\n",
              "      <td>NaN</td>\n",
              "    </tr>\n",
              "    <tr>\n",
              "      <th>75%</th>\n",
              "      <td>1708.750000</td>\n",
              "      <td>1560.000000</td>\n",
              "      <td>46.000000</td>\n",
              "      <td>45.000000</td>\n",
              "      <td>46.000000</td>\n",
              "      <td>45.000000</td>\n",
              "      <td>45.000000</td>\n",
              "      <td>45.000000</td>\n",
              "      <td>1.000000</td>\n",
              "      <td>136.750000</td>\n",
              "      <td>8816.250000</td>\n",
              "      <td>NaN</td>\n",
              "    </tr>\n",
              "    <tr>\n",
              "      <th>max</th>\n",
              "      <td>2278.000000</td>\n",
              "      <td>2062.000000</td>\n",
              "      <td>60.000000</td>\n",
              "      <td>60.000000</td>\n",
              "      <td>60.000000</td>\n",
              "      <td>60.000000</td>\n",
              "      <td>60.000000</td>\n",
              "      <td>60.000000</td>\n",
              "      <td>17.000000</td>\n",
              "      <td>4862.000000</td>\n",
              "      <td>173428.000000</td>\n",
              "      <td>NaN</td>\n",
              "    </tr>\n",
              "  </tbody>\n",
              "</table>\n",
              "</div>\n",
              "      <button class=\"colab-df-convert\" onclick=\"convertToInteractive('df-9fd15d9e-1a48-4c21-a15b-c6758ba645a4')\"\n",
              "              title=\"Convert this dataframe to an interactive table.\"\n",
              "              style=\"display:none;\">\n",
              "        \n",
              "  <svg xmlns=\"http://www.w3.org/2000/svg\" height=\"24px\"viewBox=\"0 0 24 24\"\n",
              "       width=\"24px\">\n",
              "    <path d=\"M0 0h24v24H0V0z\" fill=\"none\"/>\n",
              "    <path d=\"M18.56 5.44l.94 2.06.94-2.06 2.06-.94-2.06-.94-.94-2.06-.94 2.06-2.06.94zm-11 1L8.5 8.5l.94-2.06 2.06-.94-2.06-.94L8.5 2.5l-.94 2.06-2.06.94zm10 10l.94 2.06.94-2.06 2.06-.94-2.06-.94-.94-2.06-.94 2.06-2.06.94z\"/><path d=\"M17.41 7.96l-1.37-1.37c-.4-.4-.92-.59-1.43-.59-.52 0-1.04.2-1.43.59L10.3 9.45l-7.72 7.72c-.78.78-.78 2.05 0 2.83L4 21.41c.39.39.9.59 1.41.59.51 0 1.02-.2 1.41-.59l7.78-7.78 2.81-2.81c.8-.78.8-2.07 0-2.86zM5.41 20L4 18.59l7.72-7.72 1.47 1.35L5.41 20z\"/>\n",
              "  </svg>\n",
              "      </button>\n",
              "      \n",
              "  <style>\n",
              "    .colab-df-container {\n",
              "      display:flex;\n",
              "      flex-wrap:wrap;\n",
              "      gap: 12px;\n",
              "    }\n",
              "\n",
              "    .colab-df-convert {\n",
              "      background-color: #E8F0FE;\n",
              "      border: none;\n",
              "      border-radius: 50%;\n",
              "      cursor: pointer;\n",
              "      display: none;\n",
              "      fill: #1967D2;\n",
              "      height: 32px;\n",
              "      padding: 0 0 0 0;\n",
              "      width: 32px;\n",
              "    }\n",
              "\n",
              "    .colab-df-convert:hover {\n",
              "      background-color: #E2EBFA;\n",
              "      box-shadow: 0px 1px 2px rgba(60, 64, 67, 0.3), 0px 1px 3px 1px rgba(60, 64, 67, 0.15);\n",
              "      fill: #174EA6;\n",
              "    }\n",
              "\n",
              "    [theme=dark] .colab-df-convert {\n",
              "      background-color: #3B4455;\n",
              "      fill: #D2E3FC;\n",
              "    }\n",
              "\n",
              "    [theme=dark] .colab-df-convert:hover {\n",
              "      background-color: #434B5C;\n",
              "      box-shadow: 0px 1px 3px 1px rgba(0, 0, 0, 0.15);\n",
              "      filter: drop-shadow(0px 1px 2px rgba(0, 0, 0, 0.3));\n",
              "      fill: #FFFFFF;\n",
              "    }\n",
              "  </style>\n",
              "\n",
              "      <script>\n",
              "        const buttonEl =\n",
              "          document.querySelector('#df-9fd15d9e-1a48-4c21-a15b-c6758ba645a4 button.colab-df-convert');\n",
              "        buttonEl.style.display =\n",
              "          google.colab.kernel.accessAllowed ? 'block' : 'none';\n",
              "\n",
              "        async function convertToInteractive(key) {\n",
              "          const element = document.querySelector('#df-9fd15d9e-1a48-4c21-a15b-c6758ba645a4');\n",
              "          const dataTable =\n",
              "            await google.colab.kernel.invokeFunction('convertToInteractive',\n",
              "                                                     [key], {});\n",
              "          if (!dataTable) return;\n",
              "\n",
              "          const docLinkHtml = 'Like what you see? Visit the ' +\n",
              "            '<a target=\"_blank\" href=https://colab.research.google.com/notebooks/data_table.ipynb>data table notebook</a>'\n",
              "            + ' to learn more about interactive tables.';\n",
              "          element.innerHTML = '';\n",
              "          dataTable['output_type'] = 'display_data';\n",
              "          await google.colab.output.renderOutput(dataTable, element);\n",
              "          const docLink = document.createElement('div');\n",
              "          docLink.innerHTML = docLinkHtml;\n",
              "          element.appendChild(docLink);\n",
              "        }\n",
              "      </script>\n",
              "    </div>\n",
              "  </div>\n",
              "  "
            ]
          },
          "metadata": {},
          "execution_count": 2
        }
      ]
    },
    {
      "cell_type": "markdown",
      "source": [
        "### 2.1 Verificando se alguma vez as dezenas se repetiram na mesma ordem"
      ],
      "metadata": {
        "id": "MUCvNqSnrgnS"
      }
    },
    {
      "cell_type": "code",
      "source": [
        "df.groupby(['1ª Dezena','2ª Dezena', '3ª Dezena', '4ª Dezena', '5ª Dezena', '6ª Dezena']).size().sort_values(ascending=False)"
      ],
      "metadata": {
        "colab": {
          "base_uri": "https://localhost:8080/"
        },
        "id": "Ensy1C9Phs0Y",
        "outputId": "8aa4cf9a-859a-4611-e71d-a25fda6b78d0"
      },
      "execution_count": 4,
      "outputs": [
        {
          "output_type": "execute_result",
          "data": {
            "text/plain": [
              "1ª Dezena  2ª Dezena  3ª Dezena  4ª Dezena  5ª Dezena  6ª Dezena\n",
              "6          37         34         10         3          17           17\n",
              "56         45         13         33         38         1            15\n",
              "36         54         3          31         15         48            7\n",
              "31         2          51         42         18         56            6\n",
              "5          24         51         22         11         53            6\n",
              "                                                                    ..\n",
              "21         52         34         26         2          32            1\n",
              "           48         33         1          56         17            1\n",
              "           47         40         52         30         20            1\n",
              "           46         6          22         13         31            1\n",
              "60         58         49         32         20         34            1\n",
              "Length: 2062, dtype: int64"
            ]
          },
          "metadata": {},
          "execution_count": 4
        }
      ]
    },
    {
      "cell_type": "markdown",
      "source": [
        "Até 2018, nunca tivemos um jogo repetido com as dezenas na mesma ordem."
      ],
      "metadata": {
        "id": "_6jec1aIsIuB"
      }
    },
    {
      "cell_type": "markdown",
      "source": [
        "### As 6 dezenas mais sorteadas em todos os jogos\n"
      ],
      "metadata": {
        "id": "6wlpnEqTsa3D"
      }
    },
    {
      "cell_type": "code",
      "source": [
        "dezenas = pd.DataFrame(df['1ª Dezena'].tolist() + df['2ª Dezena'].tolist() + df['3ª Dezena'].tolist() + df['4ª Dezena'].tolist() + df['5ª Dezena'].tolist() + df['6ª Dezena'].tolist(), columns=['numeros'])\n",
        "dezenas['numeros'].value_counts().sort_values(ascending=True).head(6).plot(kind='barh', title='As 6 dezenas mais sorteadas em todos os jogos', figsize=(10,5), fontsize=12, legend=True, color='gray')"
      ],
      "metadata": {
        "colab": {
          "base_uri": "https://localhost:8080/",
          "height": 356
        },
        "id": "YHQRD0fqh7Wq",
        "outputId": "c76c36d7-3f12-4eaa-f32b-a3e03f14d192"
      },
      "execution_count": 16,
      "outputs": [
        {
          "output_type": "execute_result",
          "data": {
            "text/plain": [
              "<matplotlib.axes._subplots.AxesSubplot at 0x7fcea9899c10>"
            ]
          },
          "metadata": {},
          "execution_count": 16
        },
        {
          "output_type": "display_data",
          "data": {
            "text/plain": [
              "<Figure size 720x360 with 1 Axes>"
            ],
            "image/png": "[encoded data removed]"
          },
          "metadata": {
            "needs_background": "light"
          }
        }
      ]
    },
    {
      "cell_type": "markdown",
      "source": [
        "## 3. Preparando os dados para o modelo\n",
        "\n",
        "Atributos selecionados: 1ª, 2ª, 3ª, 4ª, 5ª e 6ª dezena e ganhadores"
      ],
      "metadata": {
        "id": "dGqCjNRxtguE"
      }
    },
    {
      "cell_type": "code",
      "source": [
        "final_dataset = df[['1ª Dezena','2ª Dezena', '3ª Dezena', '4ª Dezena', '5ª Dezena', '6ª Dezena', 'Ganhadores_Sena']] \n",
        "final_dataset.columns = map(str.lower, final_dataset.columns)\n",
        "final_dataset.head(6)"
      ],
      "metadata": {
        "colab": {
          "base_uri": "https://localhost:8080/",
          "height": 238
        },
        "id": "oeiAQDWMi5OC",
        "outputId": "844b683f-b155-402f-cdc4-f3a6c6c26b05"
      },
      "execution_count": 21,
      "outputs": [
        {
          "output_type": "execute_result",
          "data": {
            "text/plain": [
              "   1ª dezena  2ª dezena  3ª dezena  4ª dezena  5ª dezena  6ª dezena  \\\n",
              "0         41          5          4         52         30         33   \n",
              "1          9         39         37         49         43         41   \n",
              "2         36         30         10         11         29         47   \n",
              "3         36         30         10         11         29         47   \n",
              "4          6         59         42         27          1          5   \n",
              "5          1         19         46          6         16          2   \n",
              "\n",
              "   ganhadores_sena  \n",
              "0                0  \n",
              "1                1  \n",
              "2                2  \n",
              "3                2  \n",
              "4                0  \n",
              "5                0  "
            ],
            "text/html": [
              "\n",
              "  <div id=\"df-9e3d3391-d241-4345-847c-6fbe61270f11\">\n",
              "    <div class=\"colab-df-container\">\n",
              "      <div>\n",
              "<style scoped>\n",
              "    .dataframe tbody tr th:only-of-type {\n",
              "        vertical-align: middle;\n",
              "    }\n",
              "\n",
              "    .dataframe tbody tr th {\n",
              "        vertical-align: top;\n",
              "    }\n",
              "\n",
              "    .dataframe thead th {\n",
              "        text-align: right;\n",
              "    }\n",
              "</style>\n",
              "<table border=\"1\" class=\"dataframe\">\n",
              "  <thead>\n",
              "    <tr style=\"text-align: right;\">\n",
              "      <th></th>\n",
              "      <th>1ª dezena</th>\n",
              "      <th>2ª dezena</th>\n",
              "      <th>3ª dezena</th>\n",
              "      <th>4ª dezena</th>\n",
              "      <th>5ª dezena</th>\n",
              "      <th>6ª dezena</th>\n",
              "      <th>ganhadores_sena</th>\n",
              "    </tr>\n",
              "  </thead>\n",
              "  <tbody>\n",
              "    <tr>\n",
              "      <th>0</th>\n",
              "      <td>41</td>\n",
              "      <td>5</td>\n",
              "      <td>4</td>\n",
              "      <td>52</td>\n",
              "      <td>30</td>\n",
              "      <td>33</td>\n",
              "      <td>0</td>\n",
              "    </tr>\n",
              "    <tr>\n",
              "      <th>1</th>\n",
              "      <td>9</td>\n",
              "      <td>39</td>\n",
              "      <td>37</td>\n",
              "      <td>49</td>\n",
              "      <td>43</td>\n",
              "      <td>41</td>\n",
              "      <td>1</td>\n",
              "    </tr>\n",
              "    <tr>\n",
              "      <th>2</th>\n",
              "      <td>36</td>\n",
              "      <td>30</td>\n",
              "      <td>10</td>\n",
              "      <td>11</td>\n",
              "      <td>29</td>\n",
              "      <td>47</td>\n",
              "      <td>2</td>\n",
              "    </tr>\n",
              "    <tr>\n",
              "      <th>3</th>\n",
              "      <td>36</td>\n",
              "      <td>30</td>\n",
              "      <td>10</td>\n",
              "      <td>11</td>\n",
              "      <td>29</td>\n",
              "      <td>47</td>\n",
              "      <td>2</td>\n",
              "    </tr>\n",
              "    <tr>\n",
              "      <th>4</th>\n",
              "      <td>6</td>\n",
              "      <td>59</td>\n",
              "      <td>42</td>\n",
              "      <td>27</td>\n",
              "      <td>1</td>\n",
              "      <td>5</td>\n",
              "      <td>0</td>\n",
              "    </tr>\n",
              "    <tr>\n",
              "      <th>5</th>\n",
              "      <td>1</td>\n",
              "      <td>19</td>\n",
              "      <td>46</td>\n",
              "      <td>6</td>\n",
              "      <td>16</td>\n",
              "      <td>2</td>\n",
              "      <td>0</td>\n",
              "    </tr>\n",
              "  </tbody>\n",
              "</table>\n",
              "</div>\n",
              "      <button class=\"colab-df-convert\" onclick=\"convertToInteractive('df-9e3d3391-d241-4345-847c-6fbe61270f11')\"\n",
              "              title=\"Convert this dataframe to an interactive table.\"\n",
              "              style=\"display:none;\">\n",
              "        \n",
              "  <svg xmlns=\"http://www.w3.org/2000/svg\" height=\"24px\"viewBox=\"0 0 24 24\"\n",
              "       width=\"24px\">\n",
              "    <path d=\"M0 0h24v24H0V0z\" fill=\"none\"/>\n",
              "    <path d=\"M18.56 5.44l.94 2.06.94-2.06 2.06-.94-2.06-.94-.94-2.06-.94 2.06-2.06.94zm-11 1L8.5 8.5l.94-2.06 2.06-.94-2.06-.94L8.5 2.5l-.94 2.06-2.06.94zm10 10l.94 2.06.94-2.06 2.06-.94-2.06-.94-.94-2.06-.94 2.06-2.06.94z\"/><path d=\"M17.41 7.96l-1.37-1.37c-.4-.4-.92-.59-1.43-.59-.52 0-1.04.2-1.43.59L10.3 9.45l-7.72 7.72c-.78.78-.78 2.05 0 2.83L4 21.41c.39.39.9.59 1.41.59.51 0 1.02-.2 1.41-.59l7.78-7.78 2.81-2.81c.8-.78.8-2.07 0-2.86zM5.41 20L4 18.59l7.72-7.72 1.47 1.35L5.41 20z\"/>\n",
              "  </svg>\n",
              "      </button>\n",
              "      \n",
              "  <style>\n",
              "    .colab-df-container {\n",
              "      display:flex;\n",
              "      flex-wrap:wrap;\n",
              "      gap: 12px;\n",
              "    }\n",
              "\n",
              "    .colab-df-convert {\n",
              "      background-color: #E8F0FE;\n",
              "      border: none;\n",
              "      border-radius: 50%;\n",
              "      cursor: pointer;\n",
              "      display: none;\n",
              "      fill: #1967D2;\n",
              "      height: 32px;\n",
              "      padding: 0 0 0 0;\n",
              "      width: 32px;\n",
              "    }\n",
              "\n",
              "    .colab-df-convert:hover {\n",
              "      background-color: #E2EBFA;\n",
              "      box-shadow: 0px 1px 2px rgba(60, 64, 67, 0.3), 0px 1px 3px 1px rgba(60, 64, 67, 0.15);\n",
              "      fill: #174EA6;\n",
              "    }\n",
              "\n",
              "    [theme=dark] .colab-df-convert {\n",
              "      background-color: #3B4455;\n",
              "      fill: #D2E3FC;\n",
              "    }\n",
              "\n",
              "    [theme=dark] .colab-df-convert:hover {\n",
              "      background-color: #434B5C;\n",
              "      box-shadow: 0px 1px 3px 1px rgba(0, 0, 0, 0.15);\n",
              "      filter: drop-shadow(0px 1px 2px rgba(0, 0, 0, 0.3));\n",
              "      fill: #FFFFFF;\n",
              "    }\n",
              "  </style>\n",
              "\n",
              "      <script>\n",
              "        const buttonEl =\n",
              "          document.querySelector('#df-9e3d3391-d241-4345-847c-6fbe61270f11 button.colab-df-convert');\n",
              "        buttonEl.style.display =\n",
              "          google.colab.kernel.accessAllowed ? 'block' : 'none';\n",
              "\n",
              "        async function convertToInteractive(key) {\n",
              "          const element = document.querySelector('#df-9e3d3391-d241-4345-847c-6fbe61270f11');\n",
              "          const dataTable =\n",
              "            await google.colab.kernel.invokeFunction('convertToInteractive',\n",
              "                                                     [key], {});\n",
              "          if (!dataTable) return;\n",
              "\n",
              "          const docLinkHtml = 'Like what you see? Visit the ' +\n",
              "            '<a target=\"_blank\" href=https://colab.research.google.com/notebooks/data_table.ipynb>data table notebook</a>'\n",
              "            + ' to learn more about interactive tables.';\n",
              "          element.innerHTML = '';\n",
              "          dataTable['output_type'] = 'display_data';\n",
              "          await google.colab.output.renderOutput(dataTable, element);\n",
              "          const docLink = document.createElement('div');\n",
              "          docLink.innerHTML = docLinkHtml;\n",
              "          element.appendChild(docLink);\n",
              "        }\n",
              "      </script>\n",
              "    </div>\n",
              "  </div>\n",
              "  "
            ]
          },
          "metadata": {},
          "execution_count": 21
        }
      ]
    },
    {
      "cell_type": "code",
      "source": [
        "# todo jogo que tiver mais de um ganhador deixamos como o numeor 1\n",
        "final_dataset.loc[final_dataset['ganhadores_sena'] > 1, 'ganhadores_sena'] = 1"
      ],
      "metadata": {
        "id": "hkYyATIpuS0l"
      },
      "execution_count": null,
      "outputs": []
    },
    {
      "cell_type": "markdown",
      "source": [
        "## 4. Modelo de Rede Neural"
      ],
      "metadata": {
        "id": "MtlPv0axucS-"
      }
    },
    {
      "cell_type": "code",
      "source": [
        "from keras.models  import Sequential\n",
        "from keras.layers  import Dense, Dropout\n",
        "from sklearn.model_selection import train_test_split\n",
        "from tensorflow import keras\n",
        "from tensorflow.keras.regularizers import l2"
      ],
      "metadata": {
        "id": "zPvKFVQRjQMS"
      },
      "execution_count": 174,
      "outputs": []
    },
    {
      "cell_type": "code",
      "source": [
        "np.random.seed(33)"
      ],
      "metadata": {
        "id": "tT6X3sLojRqH"
      },
      "execution_count": 171,
      "outputs": []
    },
    {
      "cell_type": "code",
      "source": [
        "features = final_dataset.iloc[:,0:6]\n",
        "target   = final_dataset.iloc[:,6]\n",
        "\n",
        "input_train, input_test, output_train, output_test = train_test_split(features, target, test_size=0.25, random_state=33)"
      ],
      "metadata": {
        "id": "LC-rShW5jS59"
      },
      "execution_count": 181,
      "outputs": []
    },
    {
      "cell_type": "code",
      "source": [
        "# Neural Network model \n",
        "modelo = Sequential()\n",
        "modelo.add(Dense(64, input_dim=6, activation='relu'))\n",
        "modelo.add(Dense(32, activation='relu'))\n",
        "modelo.add(Dropout(0.1))\n",
        "modelo.add(Dense(1, activity_regularizer=l2(0.002)))\n",
        "modelo.add(Dense(1, activation='sigmoid'))\n",
        "modelo.summary()\n",
        "callback = keras.callbacks.EarlyStopping(monitor='loss', patience=3)\n",
        "opt = keras.optimizers.Adam(learning_rate=0.001)\n",
        "modelo.compile(loss='binary_crossentropy', optimizer=opt, metrics=['accuracy'])"
      ],
      "metadata": {
        "colab": {
          "base_uri": "https://localhost:8080/"
        },
        "id": "u8j-KRYrjVQ3",
        "outputId": "126656af-072f-4316-c204-4ec3d561b065"
      },
      "execution_count": 231,
      "outputs": [
        {
          "output_type": "stream",
          "name": "stdout",
          "text": [
            "Model: \"sequential_65\"\n",
            "_________________________________________________________________\n",
            " Layer (type)                Output Shape              Param #   \n",
            "=================================================================\n",
            " dense_124 (Dense)           (None, 64)                448       \n",
            "                                                                 \n",
            " dense_125 (Dense)           (None, 32)                2080      \n",
            "                                                                 \n",
            " dropout_26 (Dropout)        (None, 32)                0         \n",
            "                                                                 \n",
            " dense_126 (Dense)           (None, 1)                 33        \n",
            "                                                                 \n",
            " dense_127 (Dense)           (None, 1)                 2         \n",
            "                                                                 \n",
            "=================================================================\n",
            "Total params: 2,563\n",
            "Trainable params: 2,563\n",
            "Non-trainable params: 0\n",
            "_________________________________________________________________\n"
          ]
        }
      ]
    },
    {
      "cell_type": "code",
      "source": [
        "#Treinamento \n",
        "history = modelo.fit(input_train, output_train, epochs=100, batch_size=32, callbacks=[callback],\n",
        "                     validation_data=(input_test, output_test), shuffle=True)"
      ],
      "metadata": {
        "colab": {
          "base_uri": "https://localhost:8080/"
        },
        "id": "NSRM5NR3jYE5",
        "outputId": "6deba134-293f-4c96-b34b-bb9993f5d944"
      },
      "execution_count": 232,
      "outputs": [
        {
          "output_type": "stream",
          "name": "stdout",
          "text": [
            "Epoch 1/100\n",
            "54/54 [==============================] - 1s 7ms/step - loss: 2.1216 - accuracy: 0.6001 - val_loss: 0.8560 - val_accuracy: 0.6842\n",
            "Epoch 2/100\n",
            "54/54 [==============================] - 0s 3ms/step - loss: 1.1378 - accuracy: 0.6107 - val_loss: 0.6941 - val_accuracy: 0.6702\n",
            "Epoch 3/100\n",
            "54/54 [==============================] - 0s 3ms/step - loss: 0.8362 - accuracy: 0.6206 - val_loss: 0.6659 - val_accuracy: 0.6789\n",
            "Epoch 4/100\n",
            "54/54 [==============================] - 0s 3ms/step - loss: 0.7168 - accuracy: 0.6347 - val_loss: 0.6428 - val_accuracy: 0.6737\n",
            "Epoch 5/100\n",
            "54/54 [==============================] - 0s 3ms/step - loss: 0.6570 - accuracy: 0.6475 - val_loss: 0.6323 - val_accuracy: 0.7053\n",
            "Epoch 6/100\n",
            "54/54 [==============================] - 0s 3ms/step - loss: 0.6409 - accuracy: 0.6569 - val_loss: 0.6335 - val_accuracy: 0.6825\n",
            "Epoch 7/100\n",
            "54/54 [==============================] - 0s 3ms/step - loss: 0.6208 - accuracy: 0.6838 - val_loss: 0.6133 - val_accuracy: 0.7123\n",
            "Epoch 8/100\n",
            "54/54 [==============================] - 0s 5ms/step - loss: 0.6279 - accuracy: 0.6803 - val_loss: 0.6319 - val_accuracy: 0.6825\n",
            "Epoch 9/100\n",
            "54/54 [==============================] - 0s 5ms/step - loss: 0.6077 - accuracy: 0.6833 - val_loss: 0.6235 - val_accuracy: 0.7140\n",
            "Epoch 10/100\n",
            "54/54 [==============================] - 0s 8ms/step - loss: 0.6126 - accuracy: 0.6856 - val_loss: 0.6034 - val_accuracy: 0.7088\n",
            "Epoch 11/100\n",
            "54/54 [==============================] - 0s 4ms/step - loss: 0.6008 - accuracy: 0.6967 - val_loss: 0.6136 - val_accuracy: 0.7000\n",
            "Epoch 12/100\n",
            "54/54 [==============================] - 0s 3ms/step - loss: 0.5963 - accuracy: 0.6956 - val_loss: 0.6051 - val_accuracy: 0.7123\n",
            "Epoch 13/100\n",
            "54/54 [==============================] - 0s 3ms/step - loss: 0.5895 - accuracy: 0.6991 - val_loss: 0.6125 - val_accuracy: 0.7053\n",
            "Epoch 14/100\n",
            "54/54 [==============================] - 0s 3ms/step - loss: 0.5865 - accuracy: 0.7119 - val_loss: 0.5973 - val_accuracy: 0.7105\n",
            "Epoch 15/100\n",
            "54/54 [==============================] - 0s 3ms/step - loss: 0.5909 - accuracy: 0.6967 - val_loss: 0.6217 - val_accuracy: 0.7053\n",
            "Epoch 16/100\n",
            "54/54 [==============================] - 0s 3ms/step - loss: 0.5827 - accuracy: 0.7108 - val_loss: 0.6049 - val_accuracy: 0.7193\n",
            "Epoch 17/100\n",
            "54/54 [==============================] - 0s 3ms/step - loss: 0.5818 - accuracy: 0.7108 - val_loss: 0.5972 - val_accuracy: 0.7123\n",
            "Epoch 18/100\n",
            "54/54 [==============================] - 0s 4ms/step - loss: 0.5792 - accuracy: 0.7090 - val_loss: 0.6047 - val_accuracy: 0.7158\n",
            "Epoch 19/100\n",
            "54/54 [==============================] - 0s 4ms/step - loss: 0.5822 - accuracy: 0.7055 - val_loss: 0.6236 - val_accuracy: 0.6947\n",
            "Epoch 20/100\n",
            "54/54 [==============================] - 0s 3ms/step - loss: 0.5819 - accuracy: 0.7225 - val_loss: 0.5923 - val_accuracy: 0.7246\n",
            "Epoch 21/100\n",
            "54/54 [==============================] - 0s 3ms/step - loss: 0.5755 - accuracy: 0.7172 - val_loss: 0.6017 - val_accuracy: 0.7088\n",
            "Epoch 22/100\n",
            "54/54 [==============================] - 0s 2ms/step - loss: 0.5754 - accuracy: 0.7073 - val_loss: 0.5939 - val_accuracy: 0.7298\n",
            "Epoch 23/100\n",
            "54/54 [==============================] - 0s 3ms/step - loss: 0.5761 - accuracy: 0.7149 - val_loss: 0.6105 - val_accuracy: 0.7175\n",
            "Epoch 24/100\n",
            "54/54 [==============================] - 0s 3ms/step - loss: 0.5653 - accuracy: 0.7213 - val_loss: 0.6049 - val_accuracy: 0.7193\n",
            "Epoch 25/100\n",
            "54/54 [==============================] - 0s 3ms/step - loss: 0.5742 - accuracy: 0.7131 - val_loss: 0.6031 - val_accuracy: 0.7053\n",
            "Epoch 26/100\n",
            "54/54 [==============================] - 0s 3ms/step - loss: 0.5683 - accuracy: 0.7207 - val_loss: 0.6029 - val_accuracy: 0.7105\n",
            "Epoch 27/100\n",
            "54/54 [==============================] - 0s 3ms/step - loss: 0.5619 - accuracy: 0.7178 - val_loss: 0.6268 - val_accuracy: 0.6895\n",
            "Epoch 28/100\n",
            "54/54 [==============================] - 0s 4ms/step - loss: 0.5621 - accuracy: 0.7102 - val_loss: 0.5976 - val_accuracy: 0.6947\n",
            "Epoch 29/100\n",
            "54/54 [==============================] - 0s 3ms/step - loss: 0.5611 - accuracy: 0.7207 - val_loss: 0.6131 - val_accuracy: 0.6965\n",
            "Epoch 30/100\n",
            "54/54 [==============================] - 0s 3ms/step - loss: 0.5662 - accuracy: 0.7237 - val_loss: 0.6195 - val_accuracy: 0.7140\n",
            "Epoch 31/100\n",
            "54/54 [==============================] - 0s 4ms/step - loss: 0.5644 - accuracy: 0.7196 - val_loss: 0.6082 - val_accuracy: 0.7053\n",
            "Epoch 32/100\n",
            "54/54 [==============================] - 0s 3ms/step - loss: 0.5598 - accuracy: 0.7149 - val_loss: 0.6124 - val_accuracy: 0.6860\n",
            "Epoch 33/100\n",
            "54/54 [==============================] - 0s 3ms/step - loss: 0.5621 - accuracy: 0.7196 - val_loss: 0.5929 - val_accuracy: 0.7263\n",
            "Epoch 34/100\n",
            "54/54 [==============================] - 0s 3ms/step - loss: 0.5680 - accuracy: 0.7166 - val_loss: 0.6167 - val_accuracy: 0.7158\n",
            "Epoch 35/100\n",
            "54/54 [==============================] - 0s 3ms/step - loss: 0.5530 - accuracy: 0.7348 - val_loss: 0.6128 - val_accuracy: 0.7158\n",
            "Epoch 36/100\n",
            "54/54 [==============================] - 0s 4ms/step - loss: 0.5537 - accuracy: 0.7324 - val_loss: 0.6096 - val_accuracy: 0.7123\n",
            "Epoch 37/100\n",
            "54/54 [==============================] - 0s 4ms/step - loss: 0.5504 - accuracy: 0.7319 - val_loss: 0.6137 - val_accuracy: 0.7035\n",
            "Epoch 38/100\n",
            "54/54 [==============================] - 0s 4ms/step - loss: 0.5496 - accuracy: 0.7313 - val_loss: 0.6042 - val_accuracy: 0.7053\n",
            "Epoch 39/100\n",
            "54/54 [==============================] - 0s 3ms/step - loss: 0.5458 - accuracy: 0.7254 - val_loss: 0.6150 - val_accuracy: 0.7053\n",
            "Epoch 40/100\n",
            "54/54 [==============================] - 0s 4ms/step - loss: 0.5455 - accuracy: 0.7289 - val_loss: 0.6224 - val_accuracy: 0.7105\n",
            "Epoch 41/100\n",
            "54/54 [==============================] - 0s 3ms/step - loss: 0.5455 - accuracy: 0.7336 - val_loss: 0.6266 - val_accuracy: 0.7070\n",
            "Epoch 42/100\n",
            "54/54 [==============================] - 0s 3ms/step - loss: 0.5555 - accuracy: 0.7178 - val_loss: 0.6164 - val_accuracy: 0.7140\n",
            "Epoch 43/100\n",
            "54/54 [==============================] - 0s 3ms/step - loss: 0.5525 - accuracy: 0.7254 - val_loss: 0.6185 - val_accuracy: 0.7018\n"
          ]
        }
      ]
    },
    {
      "cell_type": "code",
      "source": [
        "plt.plot(history.history['loss'])\n",
        "plt.plot(history.history['val_loss'])\n",
        "plt.ylabel('loss')\n",
        "plt.xlabel('epoch')\n",
        "plt.legend(['train', 'val'], loc='upper left')\n",
        "plt.show()"
      ],
      "metadata": {
        "colab": {
          "base_uri": "https://localhost:8080/",
          "height": 283
        },
        "id": "Jjy4092iAil7",
        "outputId": "c5b79549-82dd-4ccf-a22c-1df74ca75f32"
      },
      "execution_count": 233,
      "outputs": [
        {
          "output_type": "display_data",
          "data": {
            "text/plain": [
              "<Figure size 432x288 with 1 Axes>"
            ],
            "image/png": "[encoded data removed]"
          },
          "metadata": {
            "needs_background": "light"
          }
        }
      ]
    },
    {
      "cell_type": "markdown",
      "source": [],
      "metadata": {
        "id": "PAZQfK3jxvRN"
      }
    },
    {
      "cell_type": "markdown",
      "source": [
        "# Fazendo a predição "
      ],
      "metadata": {
        "id": "NahTH--mxSmb"
      }
    },
    {
      "cell_type": "markdown",
      "source": [
        "### Escolhendo as dezenas "
      ],
      "metadata": {
        "id": "UIkkJmSUxxbs"
      }
    },
    {
      "cell_type": "code",
      "source": [
        "numero_sorteio = [[7, 10, 13, 21, 33, 60]]\n",
        "num_sorteio = pd.DataFrame(numero_sorteio)"
      ],
      "metadata": {
        "id": "WrQRVHGYjafu"
      },
      "execution_count": 236,
      "outputs": []
    },
    {
      "cell_type": "markdown",
      "source": [
        "### Predição"
      ],
      "metadata": {
        "id": "pVU3DUSEx02-"
      }
    },
    {
      "cell_type": "code",
      "source": [
        "predict_class = modelo.predict(num_sorteio)\n",
        "print(\"1 = Tem chance de ganhar \\n0 = Não tem chance de ganhar\")\n",
        "print(\"Previsão Modelo: \",predict_class[0][0])"
      ],
      "metadata": {
        "colab": {
          "base_uri": "https://localhost:8080/"
        },
        "id": "BMbw8st7jdon",
        "outputId": "57a54e1a-46e9-4720-8a99-060c5ff35a01"
      },
      "execution_count": 237,
      "outputs": [
        {
          "output_type": "stream",
          "name": "stdout",
          "text": [
            "1/1 [==============================] - 0s 40ms/step\n",
            "1 = Tem chance de ganhar \n",
            "0 = Não tem chance de ganhar\n",
            "Previsão Modelo:  0.3943354\n"
          ]
        }
      ]
    }
  ]
}